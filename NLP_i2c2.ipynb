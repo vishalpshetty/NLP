{
 "cells": [
  {
   "cell_type": "code",
   "execution_count": 1,
   "metadata": {},
   "outputs": [],
   "source": [
    "import pandas as pd\n",
    "import re\n",
    "import string\n",
    "import numpy as np\n",
    "from sklearn.metrics import confusion_matrix as cm\n",
    "from sklearn.linear_model import LogisticRegression\n",
    "from sklearn.model_selection import train_test_split"
   ]
  },
  {
   "cell_type": "code",
   "execution_count": 2,
   "metadata": {},
   "outputs": [],
   "source": [
    "hospital_data = pd.read_excel(\"/smokers_surrogate_train_all_version2.xlsx\", header=0)"
   ]
  },
  {
   "cell_type": "code",
   "execution_count": 3,
   "metadata": {},
   "outputs": [
    {
     "data": {
      "text/html": [
       "<div>\n",
       "<style scoped>\n",
       "    .dataframe tbody tr th:only-of-type {\n",
       "        vertical-align: middle;\n",
       "    }\n",
       "\n",
       "    .dataframe tbody tr th {\n",
       "        vertical-align: top;\n",
       "    }\n",
       "\n",
       "    .dataframe thead th {\n",
       "        text-align: right;\n",
       "    }\n",
       "</style>\n",
       "<table border=\"1\" class=\"dataframe\">\n",
       "  <thead>\n",
       "    <tr style=\"text-align: right;\">\n",
       "      <th></th>\n",
       "      <th>ID</th>\n",
       "      <th>STATUS</th>\n",
       "      <th>TEXT</th>\n",
       "    </tr>\n",
       "  </thead>\n",
       "  <tbody>\n",
       "    <tr>\n",
       "      <th>0</th>\n",
       "      <td>641</td>\n",
       "      <td>CURRENT SMOKER</td>\n",
       "      <td>977146916\\nHLGMC\\n2878891\\n022690\\n01/27/1997 ...</td>\n",
       "    </tr>\n",
       "    <tr>\n",
       "      <th>1</th>\n",
       "      <td>643</td>\n",
       "      <td>CURRENT SMOKER</td>\n",
       "      <td>026738007\\nCMC\\n15319689\\n3/25/1998 12:00:00 A...</td>\n",
       "    </tr>\n",
       "    <tr>\n",
       "      <th>2</th>\n",
       "      <td>681</td>\n",
       "      <td>CURRENT SMOKER</td>\n",
       "      <td>071962960\\nBH\\n4236518\\n417454\\n12/10/2001 12:...</td>\n",
       "    </tr>\n",
       "    <tr>\n",
       "      <th>3</th>\n",
       "      <td>704</td>\n",
       "      <td>CURRENT SMOKER</td>\n",
       "      <td>418520250\\nNVH\\n61562872\\n3/11/1995 12:00:00 A...</td>\n",
       "    </tr>\n",
       "    <tr>\n",
       "      <th>4</th>\n",
       "      <td>757</td>\n",
       "      <td>CURRENT SMOKER</td>\n",
       "      <td>301443520\\nCTMC\\n49020928\\n448922\\n1/11/1990 1...</td>\n",
       "    </tr>\n",
       "  </tbody>\n",
       "</table>\n",
       "</div>"
      ],
      "text/plain": [
       "    ID          STATUS                                               TEXT\n",
       "0  641  CURRENT SMOKER  977146916\\nHLGMC\\n2878891\\n022690\\n01/27/1997 ...\n",
       "1  643  CURRENT SMOKER  026738007\\nCMC\\n15319689\\n3/25/1998 12:00:00 A...\n",
       "2  681  CURRENT SMOKER  071962960\\nBH\\n4236518\\n417454\\n12/10/2001 12:...\n",
       "3  704  CURRENT SMOKER  418520250\\nNVH\\n61562872\\n3/11/1995 12:00:00 A...\n",
       "4  757  CURRENT SMOKER  301443520\\nCTMC\\n49020928\\n448922\\n1/11/1990 1..."
      ]
     },
     "execution_count": 3,
     "metadata": {},
     "output_type": "execute_result"
    }
   ],
   "source": [
    "hospital_data.head()"
   ]
  },
  {
   "cell_type": "code",
   "execution_count": 4,
   "metadata": {},
   "outputs": [
    {
     "data": {
      "text/plain": [
       "ID         int64\n",
       "STATUS    object\n",
       "TEXT      object\n",
       "dtype: object"
      ]
     },
     "execution_count": 4,
     "metadata": {},
     "output_type": "execute_result"
    }
   ],
   "source": [
    "hospital_data.dtypes"
   ]
  },
  {
   "cell_type": "code",
   "execution_count": 5,
   "metadata": {},
   "outputs": [],
   "source": [
    "li = []\n",
    "ly = []"
   ]
  },
  {
   "cell_type": "code",
   "execution_count": 6,
   "metadata": {},
   "outputs": [],
   "source": [
    "# def clean_text_round1(text):\n",
    "#     '''Make text lowercase, remove text in square brackets, remove punctuation and remove words containing numbers.'''\n",
    "#     text = re.sub('[%s]' % re.escape(string.punctuation),'', text) #toremove punctuations\n",
    "#     #text = re.findall('((?<=HISTORY OF PRESENT ILLNESS :\\n)(.\\n?)*)*(?=PAST MEDICAL HISTORY)',text) #standaloneuse\n",
    "#     text = re.findall('((?<=HISTORY OF PRESENT ILLNESS \\n)(.\\n?)*)*(?=PAST MEDICAL HISTORY)',text) #use with punct\n",
    "#     if text:\n",
    "#         li.append(text[0][0].replace('\\n', '').replace('  ', ' '))\n",
    "#         # maintain a list of y\n",
    "#     # remove the entire row if text is not there\n",
    "#     return text[0][0].replace('\\n', '') if text else None\n",
    "for i in range(len(hospital_data)):\n",
    "    text = re.sub('[%s]' % re.escape(string.punctuation),'', hospital_data.loc[i, 'TEXT']) #remove punctuation\n",
    "    text = re.findall('((?<=HISTORY OF PRESENT ILLNESS \\n)(.\\n?)*)*(?=PAST MEDICAL HISTORY)',text) #use with punct\n",
    "    if text and hospital_data.loc[i, 'STATUS']:\n",
    "        q = text[0][0].replace('\\n', '').replace('  ', ' ').lower()\n",
    "        if q != '':\n",
    "            li.append(q)\n",
    "            ly.append(hospital_data.loc[i, 'STATUS'])\n",
    "#round1 = lambda x: clean_text_round1(x)"
   ]
  },
  {
   "cell_type": "code",
   "execution_count": 10,
   "metadata": {},
   "outputs": [],
   "source": [
    "import gensim.models.keyedvectors as word2vec \n",
    "path='/Users/vishalpattanshetty/Downloads/PubMed-and-PMC-w2v.bin'\n",
    "model = word2vec.KeyedVectors.load_word2vec_format(path, binary = True)"
   ]
  },
  {
   "cell_type": "code",
   "execution_count": 11,
   "metadata": {},
   "outputs": [],
   "source": [
    "def getVector(w):\n",
    "    global model\n",
    "    if w in model:\n",
    "        return model[w]\n",
    "    else:\n",
    "        return np.zeros(200)\n",
    "    \n",
    "sent_vectors = []\n",
    "for s in li:\n",
    "    vec = np.zeros(200)\n",
    "    for w in s.split():\n",
    "        vec = np.add(vec, getVector(w))\n",
    "#    vec /= len(s.split())\n",
    "    sent_vectors.append(vec)"
   ]
  },
  {
   "cell_type": "code",
   "execution_count": 12,
   "metadata": {},
   "outputs": [],
   "source": [
    "X_train, X_test, y_train, y_test = train_test_split(sent_vectors, ly, test_size = 0.1)"
   ]
  },
  {
   "cell_type": "code",
   "execution_count": 14,
   "metadata": {
    "scrolled": false
   },
   "outputs": [],
   "source": [
    "from sklearn.naive_bayes import GaussianNB\n",
    "\n",
    "gnb = GaussianNB()\n",
    "\n",
    "gnb.fit(X_train, y_train)\n",
    "\n",
    "y_pred = gnb.predict(X_test)"
   ]
  },
  {
   "cell_type": "code",
   "execution_count": 15,
   "metadata": {},
   "outputs": [
    {
     "name": "stdout",
     "output_type": "stream",
     "text": [
      "Accuracy: 0.42105263157894735\n"
     ]
    }
   ],
   "source": [
    "from sklearn import metrics\n",
    "\n",
    "print(\"Accuracy:\",metrics.accuracy_score(y_test, y_pred))"
   ]
  }
 ],
 "metadata": {
  "kernelspec": {
   "display_name": "Python 3",
   "language": "python",
   "name": "python3"
  },
  "language_info": {
   "codemirror_mode": {
    "name": "ipython",
    "version": 3
   },
   "file_extension": ".py",
   "mimetype": "text/x-python",
   "name": "python",
   "nbconvert_exporter": "python",
   "pygments_lexer": "ipython3",
   "version": "3.8.3"
  }
 },
 "nbformat": 4,
 "nbformat_minor": 2
}
